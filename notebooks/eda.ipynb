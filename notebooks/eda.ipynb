{
 "cells": [
  {
   "cell_type": "markdown",
   "id": "d7b6eeac",
   "metadata": {},
   "source": [
    "The data is hard to read in text format, so import it using Pandas and check it out."
   ]
  },
  {
   "cell_type": "code",
   "execution_count": 1,
   "id": "d5d2bae7",
   "metadata": {},
   "outputs": [],
   "source": [
    "import pandas as pd"
   ]
  },
  {
   "cell_type": "markdown",
   "id": "a92b7647",
   "metadata": {},
   "source": [
    "The most basic: room availability"
   ]
  },
  {
   "cell_type": "code",
   "execution_count": 4,
   "id": "de7ef2d9",
   "metadata": {},
   "outputs": [
    {
     "data": {
      "text/html": [
       "<div>\n",
       "<style scoped>\n",
       "    .dataframe tbody tr th:only-of-type {\n",
       "        vertical-align: middle;\n",
       "    }\n",
       "\n",
       "    .dataframe tbody tr th {\n",
       "        vertical-align: top;\n",
       "    }\n",
       "\n",
       "    .dataframe thead th {\n",
       "        text-align: right;\n",
       "    }\n",
       "</style>\n",
       "<table border=\"1\" class=\"dataframe\">\n",
       "  <thead>\n",
       "    <tr style=\"text-align: right;\">\n",
       "      <th></th>\n",
       "      <th>room_id</th>\n",
       "      <th>room_number</th>\n",
       "      <th>date</th>\n",
       "      <th>status</th>\n",
       "      <th>price</th>\n",
       "      <th>max_occupancy</th>\n",
       "    </tr>\n",
       "  </thead>\n",
       "  <tbody>\n",
       "    <tr>\n",
       "      <th>0</th>\n",
       "      <td>RM000001</td>\n",
       "      <td>101</td>\n",
       "      <td>2025-01-04</td>\n",
       "      <td>Booked</td>\n",
       "      <td>NaN</td>\n",
       "      <td>2</td>\n",
       "    </tr>\n",
       "    <tr>\n",
       "      <th>1</th>\n",
       "      <td>RM000001</td>\n",
       "      <td>101</td>\n",
       "      <td>2025-01-05</td>\n",
       "      <td>Booked</td>\n",
       "      <td>NaN</td>\n",
       "      <td>2</td>\n",
       "    </tr>\n",
       "    <tr>\n",
       "      <th>2</th>\n",
       "      <td>RM000001</td>\n",
       "      <td>101</td>\n",
       "      <td>2025-01-06</td>\n",
       "      <td>Booked</td>\n",
       "      <td>NaN</td>\n",
       "      <td>2</td>\n",
       "    </tr>\n",
       "    <tr>\n",
       "      <th>3</th>\n",
       "      <td>RM000001</td>\n",
       "      <td>101</td>\n",
       "      <td>2025-01-07</td>\n",
       "      <td>Booked</td>\n",
       "      <td>NaN</td>\n",
       "      <td>2</td>\n",
       "    </tr>\n",
       "    <tr>\n",
       "      <th>4</th>\n",
       "      <td>RM000001</td>\n",
       "      <td>101</td>\n",
       "      <td>2025-01-08</td>\n",
       "      <td>Booked</td>\n",
       "      <td>NaN</td>\n",
       "      <td>2</td>\n",
       "    </tr>\n",
       "    <tr>\n",
       "      <th>5</th>\n",
       "      <td>RM000001</td>\n",
       "      <td>101</td>\n",
       "      <td>2025-01-09</td>\n",
       "      <td>Booked</td>\n",
       "      <td>NaN</td>\n",
       "      <td>2</td>\n",
       "    </tr>\n",
       "    <tr>\n",
       "      <th>6</th>\n",
       "      <td>RM000001</td>\n",
       "      <td>101</td>\n",
       "      <td>2025-01-10</td>\n",
       "      <td>Booked</td>\n",
       "      <td>NaN</td>\n",
       "      <td>2</td>\n",
       "    </tr>\n",
       "    <tr>\n",
       "      <th>7</th>\n",
       "      <td>RM000001</td>\n",
       "      <td>101</td>\n",
       "      <td>2025-01-11</td>\n",
       "      <td>Booked</td>\n",
       "      <td>NaN</td>\n",
       "      <td>2</td>\n",
       "    </tr>\n",
       "    <tr>\n",
       "      <th>8</th>\n",
       "      <td>RM000001</td>\n",
       "      <td>101</td>\n",
       "      <td>2025-01-12</td>\n",
       "      <td>Booked</td>\n",
       "      <td>NaN</td>\n",
       "      <td>2</td>\n",
       "    </tr>\n",
       "    <tr>\n",
       "      <th>9</th>\n",
       "      <td>RM000001</td>\n",
       "      <td>101</td>\n",
       "      <td>2025-01-13</td>\n",
       "      <td>Booked</td>\n",
       "      <td>NaN</td>\n",
       "      <td>2</td>\n",
       "    </tr>\n",
       "    <tr>\n",
       "      <th>10</th>\n",
       "      <td>RM000001</td>\n",
       "      <td>101</td>\n",
       "      <td>2025-01-14</td>\n",
       "      <td>Booked</td>\n",
       "      <td>NaN</td>\n",
       "      <td>2</td>\n",
       "    </tr>\n",
       "    <tr>\n",
       "      <th>11</th>\n",
       "      <td>RM000001</td>\n",
       "      <td>101</td>\n",
       "      <td>2025-01-15</td>\n",
       "      <td>Booked</td>\n",
       "      <td>NaN</td>\n",
       "      <td>2</td>\n",
       "    </tr>\n",
       "    <tr>\n",
       "      <th>12</th>\n",
       "      <td>RM000001</td>\n",
       "      <td>101</td>\n",
       "      <td>2025-01-16</td>\n",
       "      <td>Booked</td>\n",
       "      <td>NaN</td>\n",
       "      <td>2</td>\n",
       "    </tr>\n",
       "    <tr>\n",
       "      <th>13</th>\n",
       "      <td>RM000001</td>\n",
       "      <td>101</td>\n",
       "      <td>2025-01-17</td>\n",
       "      <td>Booked</td>\n",
       "      <td>NaN</td>\n",
       "      <td>2</td>\n",
       "    </tr>\n",
       "    <tr>\n",
       "      <th>14</th>\n",
       "      <td>RM000001</td>\n",
       "      <td>101</td>\n",
       "      <td>2025-01-18</td>\n",
       "      <td>Booked</td>\n",
       "      <td>NaN</td>\n",
       "      <td>2</td>\n",
       "    </tr>\n",
       "    <tr>\n",
       "      <th>15</th>\n",
       "      <td>RM000001</td>\n",
       "      <td>101</td>\n",
       "      <td>2025-01-19</td>\n",
       "      <td>Booked</td>\n",
       "      <td>NaN</td>\n",
       "      <td>2</td>\n",
       "    </tr>\n",
       "    <tr>\n",
       "      <th>16</th>\n",
       "      <td>RM000001</td>\n",
       "      <td>101</td>\n",
       "      <td>2025-01-20</td>\n",
       "      <td>Available</td>\n",
       "      <td>500.00</td>\n",
       "      <td>2</td>\n",
       "    </tr>\n",
       "    <tr>\n",
       "      <th>17</th>\n",
       "      <td>RM000001</td>\n",
       "      <td>101</td>\n",
       "      <td>2025-01-21</td>\n",
       "      <td>Available</td>\n",
       "      <td>500.00</td>\n",
       "      <td>2</td>\n",
       "    </tr>\n",
       "    <tr>\n",
       "      <th>18</th>\n",
       "      <td>RM000001</td>\n",
       "      <td>101</td>\n",
       "      <td>2025-01-22</td>\n",
       "      <td>Available</td>\n",
       "      <td>468.57</td>\n",
       "      <td>2</td>\n",
       "    </tr>\n",
       "    <tr>\n",
       "      <th>19</th>\n",
       "      <td>RM000001</td>\n",
       "      <td>101</td>\n",
       "      <td>2025-01-23</td>\n",
       "      <td>Available</td>\n",
       "      <td>485.14</td>\n",
       "      <td>2</td>\n",
       "    </tr>\n",
       "  </tbody>\n",
       "</table>\n",
       "</div>"
      ],
      "text/plain": [
       "     room_id  room_number        date     status   price  max_occupancy\n",
       "0   RM000001          101  2025-01-04     Booked     NaN              2\n",
       "1   RM000001          101  2025-01-05     Booked     NaN              2\n",
       "2   RM000001          101  2025-01-06     Booked     NaN              2\n",
       "3   RM000001          101  2025-01-07     Booked     NaN              2\n",
       "4   RM000001          101  2025-01-08     Booked     NaN              2\n",
       "5   RM000001          101  2025-01-09     Booked     NaN              2\n",
       "6   RM000001          101  2025-01-10     Booked     NaN              2\n",
       "7   RM000001          101  2025-01-11     Booked     NaN              2\n",
       "8   RM000001          101  2025-01-12     Booked     NaN              2\n",
       "9   RM000001          101  2025-01-13     Booked     NaN              2\n",
       "10  RM000001          101  2025-01-14     Booked     NaN              2\n",
       "11  RM000001          101  2025-01-15     Booked     NaN              2\n",
       "12  RM000001          101  2025-01-16     Booked     NaN              2\n",
       "13  RM000001          101  2025-01-17     Booked     NaN              2\n",
       "14  RM000001          101  2025-01-18     Booked     NaN              2\n",
       "15  RM000001          101  2025-01-19     Booked     NaN              2\n",
       "16  RM000001          101  2025-01-20  Available  500.00              2\n",
       "17  RM000001          101  2025-01-21  Available  500.00              2\n",
       "18  RM000001          101  2025-01-22  Available  468.57              2\n",
       "19  RM000001          101  2025-01-23  Available  485.14              2"
      ]
     },
     "execution_count": 4,
     "metadata": {},
     "output_type": "execute_result"
    }
   ],
   "source": [
    "df_room_availability = pd.read_csv('../data/room_availability.csv')\n",
    "df_room_availability.head(20)"
   ]
  },
  {
   "cell_type": "code",
   "execution_count": 6,
   "id": "ae0c932e",
   "metadata": {},
   "outputs": [
    {
     "name": "stdout",
     "output_type": "stream",
     "text": [
      "<class 'pandas.core.frame.DataFrame'>\n",
      "RangeIndex: 219000 entries, 0 to 218999\n",
      "Data columns (total 6 columns):\n",
      " #   Column         Non-Null Count   Dtype  \n",
      "---  ------         --------------   -----  \n",
      " 0   room_id        219000 non-null  object \n",
      " 1   room_number    219000 non-null  int64  \n",
      " 2   date           219000 non-null  object \n",
      " 3   status         219000 non-null  object \n",
      " 4   price          87377 non-null   float64\n",
      " 5   max_occupancy  219000 non-null  int64  \n",
      "dtypes: float64(1), int64(2), object(3)\n",
      "memory usage: 10.0+ MB\n"
     ]
    }
   ],
   "source": [
    "df_room_availability.info()"
   ]
  },
  {
   "cell_type": "markdown",
   "id": "073a223a",
   "metadata": {},
   "source": [
    "Check the unique statuses for the rooms"
   ]
  },
  {
   "cell_type": "code",
   "execution_count": 5,
   "id": "75e43a97",
   "metadata": {},
   "outputs": [
    {
     "data": {
      "text/plain": [
       "array(['Booked', 'Available', 'Maintenance'], dtype=object)"
      ]
     },
     "execution_count": 5,
     "metadata": {},
     "output_type": "execute_result"
    }
   ],
   "source": [
    "df_room_availability['status'].unique()"
   ]
  },
  {
   "cell_type": "markdown",
   "id": "561861fd",
   "metadata": {},
   "source": [
    "Sanity check: every room is listed for every date"
   ]
  },
  {
   "cell_type": "code",
   "execution_count": 20,
   "id": "c6d68bf3",
   "metadata": {},
   "outputs": [
    {
     "name": "stdout",
     "output_type": "stream",
     "text": [
      "Number of days listed: 365\n",
      "Number of rooms listed: 600\n",
      "Product: 219000\n",
      "Number of rows: 219000\n"
     ]
    }
   ],
   "source": [
    "print(f'Number of days listed: {df_room_availability['date'].unique().shape[0]}')\n",
    "print(f'Number of rooms listed: {df_room_availability['room_number'].unique().shape[0]}')\n",
    "print(f'Product: {df_room_availability['date'].unique().shape[0]*df_room_availability['room_number'].unique().shape[0]}')\n",
    "print(f'Number of rows: {df_room_availability.shape[0]}')"
   ]
  }
 ],
 "metadata": {
  "kernelspec": {
   "display_name": "blue-horizon-ai-concierge-py3.13",
   "language": "python",
   "name": "python3"
  },
  "language_info": {
   "codemirror_mode": {
    "name": "ipython",
    "version": 3
   },
   "file_extension": ".py",
   "mimetype": "text/x-python",
   "name": "python",
   "nbconvert_exporter": "python",
   "pygments_lexer": "ipython3",
   "version": "3.13.8"
  }
 },
 "nbformat": 4,
 "nbformat_minor": 5
}
